{
 "cells": [
  {
   "cell_type": "code",
   "execution_count": 1,
   "metadata": {},
   "outputs": [
    {
     "data": {
      "text/plain": [
       "'c:\\\\Users\\\\PSID_PC_20\\\\Desktop\\\\[00]Projects\\\\PSID_server_room\\\\qe\\\\zinc_surface_water.relax\\\\Zn_002_water\\\\Zn_002_water.relax.in'"
      ]
     },
     "execution_count": 1,
     "metadata": {},
     "output_type": "execute_result"
    }
   ],
   "source": [
    "import os \n",
    "dirs = [ os.path.join(os.path.abspath(\"./\") , x) for x in os.listdir() if os.path.isdir(x) and \"Zn\" in x]\n",
    "ex =  dirs[0]\n",
    "infile = [ os.path.join(ex , x) for x in os.listdir(ex) if \"Zn\" in x ][0]\n",
    "infile"
   ]
  },
  {
   "cell_type": "markdown",
   "metadata": {},
   "source": [
    "## 3차원 구 방식"
   ]
  },
  {
   "cell_type": "code",
   "execution_count": 11,
   "metadata": {},
   "outputs": [
    {
     "name": "stdout",
     "output_type": "stream",
     "text": [
      "✅ 완료! 새로운 파일 ../Zn101_2x4x4_primitive_atoms32_14Avaccum_relax.in_fix.in이(가) 생성되었습니다.\n"
     ]
    }
   ],
   "source": [
    "import os\n",
    "import numpy as np\n",
    "\n",
    "infile = input()\n",
    "# 설정: 원자 파일 이름과 흡착체-금속 거리 기준 (단위: Å)\n",
    "input_file = infile\n",
    "output_file = f\"{infile}_fix.in\"\n",
    "\n",
    "adsorption_center = np.array([3.098737, 4.415163, 9.528031469])  # 흡착 분자의 중심 좌표\n",
    "relax_conditions = [\n",
    "    {\"z_limit\": 3.0, \"fix_flags\": \"1 1 1\"},\n",
    "    {\"z_limit\": 5.0, \"fix_flags\": \"1 1 1\"},\n",
    "]  # Z축 기준 자동 설정\n",
    "\n",
    "relax_radius = 113.0  # XY 평면에서 relax_radius 이내\n",
    "\n",
    "# 파일 읽기\n",
    "with open(input_file, \"r\") as f:\n",
    "    lines = f.readlines()\n",
    "\n",
    "output_lines = []\n",
    "for line in lines:\n",
    "    split_line = line.strip().split()\n",
    "    if len(split_line) == 4:  # 원자 정보가 있는 줄만 처리\n",
    "        element, x, y, z = split_line\n",
    "        coords = np.array([float(x), float(y), float(z)])\n",
    "        xy_distance = np.linalg.norm(coords[:2] - adsorption_center[:2])  # XY 평면 거리 계산\n",
    "        z_distance = abs(coords[2] - adsorption_center[2])  # Z 방향 거리 계산\n",
    "\n",
    "        # Z 기준으로 적절한 fix_flag 찾기\n",
    "        fix_flags = \"0 0 0\"  # 기본 고정값\n",
    "        if xy_distance <= relax_radius:\n",
    "            for condition in relax_conditions:\n",
    "                if z_distance <= condition[\"z_limit\"]:\n",
    "                    fix_flags = condition[\"fix_flags\"]\n",
    "                    break\n",
    "\n",
    "        output_lines.append(f\"{element}  {x}  {y}  {z}  {fix_flags}\\n\")\n",
    "\n",
    "# 새로운 파일로 저장\n",
    "with open(output_file, \"w\") as f:\n",
    "    f.writelines(output_lines)\n",
    "\n",
    "print(f\"✅ 완료! 새로운 파일 {output_file}이(가) 생성되었습니다.\")"
   ]
  },
  {
   "cell_type": "markdown",
   "metadata": {},
   "source": [
    "## 고정된 분자 시각화 matplotlib"
   ]
  },
  {
   "cell_type": "code",
   "execution_count": 12,
   "metadata": {},
   "outputs": [
    {
     "data": {
      "application/vnd.plotly.v1+json": {
       "config": {
        "plotlyServerURL": "https://plot.ly"
       },
       "data": [
        {
         "marker": {
          "color": "#7D80B0",
          "opacity": 1,
          "size": 6
         },
         "mode": "markers",
         "name": "Zn (Relaxed)",
         "type": "scatter3d",
         "x": [
          -9.699793145,
          -10.935722576,
          -13.707233712,
          -14.943163143,
          -10.31775721,
          -11.553686641,
          -14.325197871,
          -15.561127302,
          -4.169397755,
          -5.405327186,
          -8.176560051,
          -9.412489482,
          -4.787363073,
          -6.023292504,
          -8.794525108,
          -10.030454539,
          -6.977137058,
          -8.213066489,
          -11.137260892,
          -12.373190323,
          -7.595101755,
          -8.831031187,
          -11.755226256,
          -12.991155687,
          -1.44761887,
          -2.683548301,
          -5.607390437,
          -6.843319868,
          -2.065582365,
          -3.301511796,
          -6.225354367,
          -7.461283798
         ],
         "y": [
          -1.014283959,
          4.066266036,
          -1.989244865,
          3.091305131,
          1.525991414,
          6.60654141,
          0.551030468,
          5.631580463,
          -1.014236627,
          4.066313368,
          -1.989131053,
          3.091418943,
          1.52603819,
          6.606588186,
          0.551144094,
          5.63169409,
          -1.697253921,
          3.383296075,
          -2.709274443,
          2.371275553,
          0.843021087,
          5.923571083,
          -0.168999359,
          4.911550637,
          -1.697400354,
          3.383149642,
          -2.709345755,
          2.371204241,
          0.842875318,
          5.923425313,
          -0.16907036,
          4.911479636
         ],
         "z": [
          5.651353526,
          5.651353526,
          7.759903789,
          7.759903789,
          5.651352408,
          5.651352408,
          7.759903393,
          7.759903393,
          5.651755323,
          5.651755323,
          7.758386348,
          7.758386348,
          5.651755071,
          5.651755071,
          7.758385403,
          7.758385403,
          5.101538815,
          5.101538815,
          7.368153051,
          7.368153051,
          5.101538331,
          5.101538331,
          7.368153141,
          7.368153141,
          5.103595078,
          5.103595078,
          7.364708609,
          7.364708609,
          5.103594014,
          5.103594014,
          7.364708144,
          7.364708144
         ]
        },
        {
         "marker": {
          "color": "gray",
          "opacity": 0.5,
          "size": 5
         },
         "mode": "markers",
         "name": "Fixed Atoms",
         "type": "scatter3d",
         "x": [
          -1.073555604,
          -2.309485035,
          -5.367777526,
          -6.603706957,
          -1.691520319,
          -2.927449751,
          -5.985742241,
          -7.221671672,
          4.456595763,
          3.220666332,
          0.162373841,
          -1.07355559,
          3.838631048,
          2.602701617,
          -0.455590874,
          -1.691520305,
          1.691520333,
          0.455590902,
          -2.602701589,
          -3.83863102,
          1.073555617,
          -0.162373814,
          -3.220666304,
          -4.456595735,
          7.2216717,
          5.985742269,
          2.927449778,
          1.691520347,
          6.603706985,
          5.367777554,
          2.309485063,
          1.073555632
         ],
         "y": [
          1.084142249,
          6.164692245,
          0.039500377,
          5.120050372,
          3.624417247,
          8.704967243,
          2.579775375,
          7.66032537,
          1.084142249,
          6.164692245,
          0.039500377,
          5.120050372,
          3.624417247,
          8.704967243,
          2.579775375,
          7.66032537,
          0.411490877,
          5.492040873,
          -0.633150995,
          4.447399001,
          2.951765875,
          8.032315871,
          1.907124003,
          6.987673999,
          0.411490877,
          5.492040873,
          -0.633150995,
          4.447399001,
          2.951765875,
          8.032315871,
          1.907124003,
          6.987673999
         ],
         "z": [
          1.197763544,
          1.197763544,
          3.251072335,
          3.251072335,
          1.197763544,
          1.197763544,
          3.251072335,
          3.251072335,
          1.197763544,
          1.197763544,
          3.251072335,
          3.251072335,
          1.197763544,
          1.197763544,
          3.251072335,
          3.251072335,
          0.855545248,
          0.855545248,
          2.908854039,
          2.908854039,
          0.855545248,
          0.855545248,
          2.908854039,
          2.908854039,
          0.855545248,
          0.855545248,
          2.908854039,
          2.908854039,
          0.855545248,
          0.855545248,
          2.908854039,
          2.908854039
         ]
        }
       ],
       "layout": {
        "height": 700,
        "margin": {
         "b": 0,
         "l": 0,
         "r": 0,
         "t": 40
        },
        "scene": {
         "xaxis": {
          "title": {
           "text": "X (Å)"
          }
         },
         "yaxis": {
          "title": {
           "text": "Y (Å)"
          }
         },
         "zaxis": {
          "title": {
           "text": "Z (Å)"
          }
         }
        },
        "template": {
         "data": {
          "bar": [
           {
            "error_x": {
             "color": "#2a3f5f"
            },
            "error_y": {
             "color": "#2a3f5f"
            },
            "marker": {
             "line": {
              "color": "#E5ECF6",
              "width": 0.5
             },
             "pattern": {
              "fillmode": "overlay",
              "size": 10,
              "solidity": 0.2
             }
            },
            "type": "bar"
           }
          ],
          "barpolar": [
           {
            "marker": {
             "line": {
              "color": "#E5ECF6",
              "width": 0.5
             },
             "pattern": {
              "fillmode": "overlay",
              "size": 10,
              "solidity": 0.2
             }
            },
            "type": "barpolar"
           }
          ],
          "carpet": [
           {
            "aaxis": {
             "endlinecolor": "#2a3f5f",
             "gridcolor": "white",
             "linecolor": "white",
             "minorgridcolor": "white",
             "startlinecolor": "#2a3f5f"
            },
            "baxis": {
             "endlinecolor": "#2a3f5f",
             "gridcolor": "white",
             "linecolor": "white",
             "minorgridcolor": "white",
             "startlinecolor": "#2a3f5f"
            },
            "type": "carpet"
           }
          ],
          "choropleth": [
           {
            "colorbar": {
             "outlinewidth": 0,
             "ticks": ""
            },
            "type": "choropleth"
           }
          ],
          "contour": [
           {
            "colorbar": {
             "outlinewidth": 0,
             "ticks": ""
            },
            "colorscale": [
             [
              0,
              "#0d0887"
             ],
             [
              0.1111111111111111,
              "#46039f"
             ],
             [
              0.2222222222222222,
              "#7201a8"
             ],
             [
              0.3333333333333333,
              "#9c179e"
             ],
             [
              0.4444444444444444,
              "#bd3786"
             ],
             [
              0.5555555555555556,
              "#d8576b"
             ],
             [
              0.6666666666666666,
              "#ed7953"
             ],
             [
              0.7777777777777778,
              "#fb9f3a"
             ],
             [
              0.8888888888888888,
              "#fdca26"
             ],
             [
              1,
              "#f0f921"
             ]
            ],
            "type": "contour"
           }
          ],
          "contourcarpet": [
           {
            "colorbar": {
             "outlinewidth": 0,
             "ticks": ""
            },
            "type": "contourcarpet"
           }
          ],
          "heatmap": [
           {
            "colorbar": {
             "outlinewidth": 0,
             "ticks": ""
            },
            "colorscale": [
             [
              0,
              "#0d0887"
             ],
             [
              0.1111111111111111,
              "#46039f"
             ],
             [
              0.2222222222222222,
              "#7201a8"
             ],
             [
              0.3333333333333333,
              "#9c179e"
             ],
             [
              0.4444444444444444,
              "#bd3786"
             ],
             [
              0.5555555555555556,
              "#d8576b"
             ],
             [
              0.6666666666666666,
              "#ed7953"
             ],
             [
              0.7777777777777778,
              "#fb9f3a"
             ],
             [
              0.8888888888888888,
              "#fdca26"
             ],
             [
              1,
              "#f0f921"
             ]
            ],
            "type": "heatmap"
           }
          ],
          "heatmapgl": [
           {
            "colorbar": {
             "outlinewidth": 0,
             "ticks": ""
            },
            "colorscale": [
             [
              0,
              "#0d0887"
             ],
             [
              0.1111111111111111,
              "#46039f"
             ],
             [
              0.2222222222222222,
              "#7201a8"
             ],
             [
              0.3333333333333333,
              "#9c179e"
             ],
             [
              0.4444444444444444,
              "#bd3786"
             ],
             [
              0.5555555555555556,
              "#d8576b"
             ],
             [
              0.6666666666666666,
              "#ed7953"
             ],
             [
              0.7777777777777778,
              "#fb9f3a"
             ],
             [
              0.8888888888888888,
              "#fdca26"
             ],
             [
              1,
              "#f0f921"
             ]
            ],
            "type": "heatmapgl"
           }
          ],
          "histogram": [
           {
            "marker": {
             "pattern": {
              "fillmode": "overlay",
              "size": 10,
              "solidity": 0.2
             }
            },
            "type": "histogram"
           }
          ],
          "histogram2d": [
           {
            "colorbar": {
             "outlinewidth": 0,
             "ticks": ""
            },
            "colorscale": [
             [
              0,
              "#0d0887"
             ],
             [
              0.1111111111111111,
              "#46039f"
             ],
             [
              0.2222222222222222,
              "#7201a8"
             ],
             [
              0.3333333333333333,
              "#9c179e"
             ],
             [
              0.4444444444444444,
              "#bd3786"
             ],
             [
              0.5555555555555556,
              "#d8576b"
             ],
             [
              0.6666666666666666,
              "#ed7953"
             ],
             [
              0.7777777777777778,
              "#fb9f3a"
             ],
             [
              0.8888888888888888,
              "#fdca26"
             ],
             [
              1,
              "#f0f921"
             ]
            ],
            "type": "histogram2d"
           }
          ],
          "histogram2dcontour": [
           {
            "colorbar": {
             "outlinewidth": 0,
             "ticks": ""
            },
            "colorscale": [
             [
              0,
              "#0d0887"
             ],
             [
              0.1111111111111111,
              "#46039f"
             ],
             [
              0.2222222222222222,
              "#7201a8"
             ],
             [
              0.3333333333333333,
              "#9c179e"
             ],
             [
              0.4444444444444444,
              "#bd3786"
             ],
             [
              0.5555555555555556,
              "#d8576b"
             ],
             [
              0.6666666666666666,
              "#ed7953"
             ],
             [
              0.7777777777777778,
              "#fb9f3a"
             ],
             [
              0.8888888888888888,
              "#fdca26"
             ],
             [
              1,
              "#f0f921"
             ]
            ],
            "type": "histogram2dcontour"
           }
          ],
          "mesh3d": [
           {
            "colorbar": {
             "outlinewidth": 0,
             "ticks": ""
            },
            "type": "mesh3d"
           }
          ],
          "parcoords": [
           {
            "line": {
             "colorbar": {
              "outlinewidth": 0,
              "ticks": ""
             }
            },
            "type": "parcoords"
           }
          ],
          "pie": [
           {
            "automargin": true,
            "type": "pie"
           }
          ],
          "scatter": [
           {
            "fillpattern": {
             "fillmode": "overlay",
             "size": 10,
             "solidity": 0.2
            },
            "type": "scatter"
           }
          ],
          "scatter3d": [
           {
            "line": {
             "colorbar": {
              "outlinewidth": 0,
              "ticks": ""
             }
            },
            "marker": {
             "colorbar": {
              "outlinewidth": 0,
              "ticks": ""
             }
            },
            "type": "scatter3d"
           }
          ],
          "scattercarpet": [
           {
            "marker": {
             "colorbar": {
              "outlinewidth": 0,
              "ticks": ""
             }
            },
            "type": "scattercarpet"
           }
          ],
          "scattergeo": [
           {
            "marker": {
             "colorbar": {
              "outlinewidth": 0,
              "ticks": ""
             }
            },
            "type": "scattergeo"
           }
          ],
          "scattergl": [
           {
            "marker": {
             "colorbar": {
              "outlinewidth": 0,
              "ticks": ""
             }
            },
            "type": "scattergl"
           }
          ],
          "scattermapbox": [
           {
            "marker": {
             "colorbar": {
              "outlinewidth": 0,
              "ticks": ""
             }
            },
            "type": "scattermapbox"
           }
          ],
          "scatterpolar": [
           {
            "marker": {
             "colorbar": {
              "outlinewidth": 0,
              "ticks": ""
             }
            },
            "type": "scatterpolar"
           }
          ],
          "scatterpolargl": [
           {
            "marker": {
             "colorbar": {
              "outlinewidth": 0,
              "ticks": ""
             }
            },
            "type": "scatterpolargl"
           }
          ],
          "scatterternary": [
           {
            "marker": {
             "colorbar": {
              "outlinewidth": 0,
              "ticks": ""
             }
            },
            "type": "scatterternary"
           }
          ],
          "surface": [
           {
            "colorbar": {
             "outlinewidth": 0,
             "ticks": ""
            },
            "colorscale": [
             [
              0,
              "#0d0887"
             ],
             [
              0.1111111111111111,
              "#46039f"
             ],
             [
              0.2222222222222222,
              "#7201a8"
             ],
             [
              0.3333333333333333,
              "#9c179e"
             ],
             [
              0.4444444444444444,
              "#bd3786"
             ],
             [
              0.5555555555555556,
              "#d8576b"
             ],
             [
              0.6666666666666666,
              "#ed7953"
             ],
             [
              0.7777777777777778,
              "#fb9f3a"
             ],
             [
              0.8888888888888888,
              "#fdca26"
             ],
             [
              1,
              "#f0f921"
             ]
            ],
            "type": "surface"
           }
          ],
          "table": [
           {
            "cells": {
             "fill": {
              "color": "#EBF0F8"
             },
             "line": {
              "color": "white"
             }
            },
            "header": {
             "fill": {
              "color": "#C8D4E3"
             },
             "line": {
              "color": "white"
             }
            },
            "type": "table"
           }
          ]
         },
         "layout": {
          "annotationdefaults": {
           "arrowcolor": "#2a3f5f",
           "arrowhead": 0,
           "arrowwidth": 1
          },
          "autotypenumbers": "strict",
          "coloraxis": {
           "colorbar": {
            "outlinewidth": 0,
            "ticks": ""
           }
          },
          "colorscale": {
           "diverging": [
            [
             0,
             "#8e0152"
            ],
            [
             0.1,
             "#c51b7d"
            ],
            [
             0.2,
             "#de77ae"
            ],
            [
             0.3,
             "#f1b6da"
            ],
            [
             0.4,
             "#fde0ef"
            ],
            [
             0.5,
             "#f7f7f7"
            ],
            [
             0.6,
             "#e6f5d0"
            ],
            [
             0.7,
             "#b8e186"
            ],
            [
             0.8,
             "#7fbc41"
            ],
            [
             0.9,
             "#4d9221"
            ],
            [
             1,
             "#276419"
            ]
           ],
           "sequential": [
            [
             0,
             "#0d0887"
            ],
            [
             0.1111111111111111,
             "#46039f"
            ],
            [
             0.2222222222222222,
             "#7201a8"
            ],
            [
             0.3333333333333333,
             "#9c179e"
            ],
            [
             0.4444444444444444,
             "#bd3786"
            ],
            [
             0.5555555555555556,
             "#d8576b"
            ],
            [
             0.6666666666666666,
             "#ed7953"
            ],
            [
             0.7777777777777778,
             "#fb9f3a"
            ],
            [
             0.8888888888888888,
             "#fdca26"
            ],
            [
             1,
             "#f0f921"
            ]
           ],
           "sequentialminus": [
            [
             0,
             "#0d0887"
            ],
            [
             0.1111111111111111,
             "#46039f"
            ],
            [
             0.2222222222222222,
             "#7201a8"
            ],
            [
             0.3333333333333333,
             "#9c179e"
            ],
            [
             0.4444444444444444,
             "#bd3786"
            ],
            [
             0.5555555555555556,
             "#d8576b"
            ],
            [
             0.6666666666666666,
             "#ed7953"
            ],
            [
             0.7777777777777778,
             "#fb9f3a"
            ],
            [
             0.8888888888888888,
             "#fdca26"
            ],
            [
             1,
             "#f0f921"
            ]
           ]
          },
          "colorway": [
           "#636efa",
           "#EF553B",
           "#00cc96",
           "#ab63fa",
           "#FFA15A",
           "#19d3f3",
           "#FF6692",
           "#B6E880",
           "#FF97FF",
           "#FECB52"
          ],
          "font": {
           "color": "#2a3f5f"
          },
          "geo": {
           "bgcolor": "white",
           "lakecolor": "white",
           "landcolor": "#E5ECF6",
           "showlakes": true,
           "showland": true,
           "subunitcolor": "white"
          },
          "hoverlabel": {
           "align": "left"
          },
          "hovermode": "closest",
          "mapbox": {
           "style": "light"
          },
          "paper_bgcolor": "white",
          "plot_bgcolor": "#E5ECF6",
          "polar": {
           "angularaxis": {
            "gridcolor": "white",
            "linecolor": "white",
            "ticks": ""
           },
           "bgcolor": "#E5ECF6",
           "radialaxis": {
            "gridcolor": "white",
            "linecolor": "white",
            "ticks": ""
           }
          },
          "scene": {
           "xaxis": {
            "backgroundcolor": "#E5ECF6",
            "gridcolor": "white",
            "gridwidth": 2,
            "linecolor": "white",
            "showbackground": true,
            "ticks": "",
            "zerolinecolor": "white"
           },
           "yaxis": {
            "backgroundcolor": "#E5ECF6",
            "gridcolor": "white",
            "gridwidth": 2,
            "linecolor": "white",
            "showbackground": true,
            "ticks": "",
            "zerolinecolor": "white"
           },
           "zaxis": {
            "backgroundcolor": "#E5ECF6",
            "gridcolor": "white",
            "gridwidth": 2,
            "linecolor": "white",
            "showbackground": true,
            "ticks": "",
            "zerolinecolor": "white"
           }
          },
          "shapedefaults": {
           "line": {
            "color": "#2a3f5f"
           }
          },
          "ternary": {
           "aaxis": {
            "gridcolor": "white",
            "linecolor": "white",
            "ticks": ""
           },
           "baxis": {
            "gridcolor": "white",
            "linecolor": "white",
            "ticks": ""
           },
           "bgcolor": "#E5ECF6",
           "caxis": {
            "gridcolor": "white",
            "linecolor": "white",
            "ticks": ""
           }
          },
          "title": {
           "x": 0.05
          },
          "xaxis": {
           "automargin": true,
           "gridcolor": "white",
           "linecolor": "white",
           "ticks": "",
           "title": {
            "standoff": 15
           },
           "zerolinecolor": "white",
           "zerolinewidth": 2
          },
          "yaxis": {
           "automargin": true,
           "gridcolor": "white",
           "linecolor": "white",
           "ticks": "",
           "title": {
            "standoff": 15
           },
           "zerolinecolor": "white",
           "zerolinewidth": 2
          }
         }
        },
        "title": {
         "text": "Interactive 3D Atom Visualization (Color by Element)"
        }
       }
      }
     },
     "metadata": {},
     "output_type": "display_data"
    }
   ],
   "source": [
    "import numpy as np\n",
    "import plotly.graph_objects as go\n",
    "import json\n",
    "\n",
    "# ATOMIC_POSITIONS 파일 입력\n",
    "input_file = output_file\n",
    "\n",
    "# 원소 색상 파일 불러오기\n",
    "with open(\"element_colors.json\", \"r\") as f:\n",
    "    element_colors = json.load(f)\n",
    "\n",
    "# 원자 데이터 저장 리스트\n",
    "elements = []\n",
    "coordinates = []\n",
    "relax_flags = []\n",
    "\n",
    "# 파일 읽기\n",
    "with open(input_file, \"r\") as f:\n",
    "    lines = f.readlines()\n",
    "\n",
    "for line in lines:\n",
    "    split_line = line.strip().split()\n",
    "    \n",
    "    # 7개 값이 있어야 정상적인 원자 데이터로 간주\n",
    "    if len(split_line) == 7:\n",
    "        element, x, y, z, rx, ry, rz = split_line\n",
    "        coordinates.append([float(x), float(y), float(z)])\n",
    "        elements.append(element)\n",
    "        relax_flags.append([int(rx), int(ry), int(rz)])\n",
    "\n",
    "# numpy 배열 변환\n",
    "coordinates = np.array(coordinates)\n",
    "relax_flags = np.array(relax_flags)\n",
    "\n",
    "# Relax 여부 판단 (모든 좌표에서 1 1 1인 경우 Relax로 분류)\n",
    "is_relaxed = np.all(relax_flags == [1, 1, 1], axis=1)\n",
    "\n",
    "# 3D 시각화\n",
    "fig = go.Figure()\n",
    "\n",
    "# Relaxed 원자 (원소별 색상)\n",
    "for element in set(elements):  # 중복 없이 원소 리스트 추출\n",
    "    element_mask = (np.array(elements) == element) & is_relaxed  # 해당 원소 & Relax된 원자만 선택\n",
    "    if np.any(element_mask):  # 존재하는 경우만 추가\n",
    "        fig.add_trace(go.Scatter3d(\n",
    "            x=coordinates[element_mask, 0],\n",
    "            y=coordinates[element_mask, 1],\n",
    "            z=coordinates[element_mask, 2],\n",
    "            mode='markers',\n",
    "            marker=dict(size=6, color=element_colors.get(element, \"black\"), opacity=1.0),\n",
    "            name=f\"{element} (Relaxed)\"\n",
    "        ))\n",
    "\n",
    "# Fixed 원자 (회색)\n",
    "fig.add_trace(go.Scatter3d(\n",
    "    x=coordinates[~is_relaxed, 0], \n",
    "    y=coordinates[~is_relaxed, 1], \n",
    "    z=coordinates[~is_relaxed, 2],\n",
    "    mode='markers', marker=dict(size=5, color='gray', opacity=0.5),\n",
    "    name=\"Fixed Atoms\"\n",
    "))\n",
    "\n",
    "# 3D 레이아웃 설정\n",
    "fig.update_layout(\n",
    "    title=\"Interactive 3D Atom Visualization (Color by Element)\",\n",
    "    scene=dict(\n",
    "        xaxis_title=\"X (Å)\",\n",
    "        yaxis_title=\"Y (Å)\",\n",
    "        zaxis_title=\"Z (Å)\",\n",
    "    ),\n",
    "    margin=dict(l=0, r=0, b=0, t=40),\n",
    "    height=700\n",
    ")\n",
    "\n",
    "# 인터랙티브 플롯 출력\n",
    "fig.show()\n"
   ]
  },
  {
   "cell_type": "code",
   "execution_count": 9,
   "metadata": {},
   "outputs": [
    {
     "data": {
      "text/plain": [
       "array([], dtype=float64)"
      ]
     },
     "execution_count": 9,
     "metadata": {},
     "output_type": "execute_result"
    }
   ],
   "source": [
    "relax_flags"
   ]
  },
  {
   "cell_type": "code",
   "execution_count": 23,
   "metadata": {},
   "outputs": [
    {
     "name": "stdout",
     "output_type": "stream",
     "text": [
      "5.24.1\n"
     ]
    }
   ],
   "source": [
    "import plotly\n",
    "print(plotly.__version__)\n"
   ]
  }
 ],
 "metadata": {
  "kernelspec": {
   "display_name": "python39",
   "language": "python",
   "name": "python3"
  },
  "language_info": {
   "codemirror_mode": {
    "name": "ipython",
    "version": 3
   },
   "file_extension": ".py",
   "mimetype": "text/x-python",
   "name": "python",
   "nbconvert_exporter": "python",
   "pygments_lexer": "ipython3",
   "version": "3.9.19"
  }
 },
 "nbformat": 4,
 "nbformat_minor": 2
}
